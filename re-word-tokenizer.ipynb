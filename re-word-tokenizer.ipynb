{
 "cells": [
  {
   "cell_type": "markdown",
   "id": "2170decf-03cc-458b-baee-61955671ea86",
   "metadata": {},
   "source": [
    "# Regular Expressions"
   ]
  },
  {
   "cell_type": "code",
   "execution_count": 3,
   "id": "f24b35c3-8fb8-413d-b9db-e1cbf5e9c25b",
   "metadata": {},
   "outputs": [],
   "source": [
    "#import regular expression library\n",
    "import re"
   ]
  },
  {
   "cell_type": "code",
   "execution_count": 6,
   "id": "7a4a8114-f37f-4b52-b5bc-87e809d19467",
   "metadata": {},
   "outputs": [],
   "source": [
    "#some text to work with\n",
    "text = '''DUK was established by the Government of Kerala by upgrading the Indian Institute of Information Technology & Management-Kerala (IIITM-K), which was established by the Government in the year 2000. DUK will commence the application process for MSc, MTech, MBA and PG Diploma programs for the academic year 2023 – 2024 in the month of March-May. As a student on these programs, you will form a part of an exciting learning environment in a verdant campus in Technocity, Thiruvananthapuram. Duk is a great University'''"
   ]
  },
  {
   "cell_type": "code",
   "execution_count": 9,
   "id": "3bd7a58d-ec09-4c51-8e63-8ed72e77b513",
   "metadata": {},
   "outputs": [
    {
     "data": {
      "text/plain": [
       "['DUK', 'DUK']"
      ]
     },
     "execution_count": 9,
     "metadata": {},
     "output_type": "execute_result"
    }
   ],
   "source": [
    "#finding all the occurrences of DUK\n",
    "#The findall() function takes two parameters, the first is the pattern being searched, in our case, duk_occ and the second parameter is text we are searching through, in our case, text. \n",
    "#As you can see, this function returns all the non-overlapping matches of the pattern which is in the duk_occ variables, from the second parameter text.\n",
    "#Please note that findall() is case sensitive\n",
    "duk_occ = \"DUK\"\n",
    "re.findall(duk_occ, text)"
   ]
  },
  {
   "cell_type": "code",
   "execution_count": 12,
   "id": "9ec6bea2-925b-464f-a730-c485040359ec",
   "metadata": {},
   "outputs": [
    {
     "data": {
      "text/plain": [
       "['DUK', 'DUK', 'Duk']"
      ]
     },
     "execution_count": 12,
     "metadata": {},
     "output_type": "execute_result"
    }
   ],
   "source": [
    "#Lets see this example, where the case is ignored.\n",
    "duk_occ = \"DUK\"\n",
    "re.findall(duk_occ,text,flags=re.IGNORECASE)"
   ]
  },
  {
   "cell_type": "code",
   "execution_count": 13,
   "id": "5603b502-d7b6-4235-963d-a1ef2de16f6d",
   "metadata": {},
   "outputs": [
    {
     "data": {
      "text/plain": [
       "['DUK', 'Kerala', 'Kerala', 'DUK', 'Duk']"
      ]
     },
     "execution_count": 13,
     "metadata": {},
     "output_type": "execute_result"
    }
   ],
   "source": [
    "#We can also search multiple patterns and extract all occurrences of those patterns. \n",
    "duk_kerala=\"DUK|Kerala\"\n",
    "re.findall(duk_kerala,text,flags=re.IGNORECASE)"
   ]
  },
  {
   "cell_type": "code",
   "execution_count": 14,
   "id": "2fb7cc54-2b7d-4608-ad16-5714892350cb",
   "metadata": {},
   "outputs": [],
   "source": [
    "#Extract words that only contain alphabets\n",
    "gifts = \"\\\n",
    "Basketball    2    25.63\\\n",
    "Tshirt     4   53.92\\\n",
    "Sneakers    1    30.58\\\n",
    "Mask    10   80.54\\\n",
    "GiftCard    2    50.00\""
   ]
  },
  {
   "cell_type": "code",
   "execution_count": 16,
   "id": "64db88a9-5141-4eed-aee9-0c4533525913",
   "metadata": {},
   "outputs": [
    {
     "data": {
      "text/plain": [
       "['Basketball', 'Tshirt', 'Sneakers', 'Mask', 'GiftCard']"
      ]
     },
     "execution_count": 16,
     "metadata": {},
     "output_type": "execute_result"
    }
   ],
   "source": [
    "#pattern for only words\n",
    "words = '[a-z]+'\n",
    "re.findall(words,gifts,flags=re.IGNORECASE)"
   ]
  },
  {
   "cell_type": "code",
   "execution_count": 18,
   "id": "e75ed8e7-2860-4bc8-b7dc-3e15049276ea",
   "metadata": {},
   "outputs": [
    {
     "data": {
      "text/plain": [
       "['36',\n",
       " '18',\n",
       " '52',\n",
       " '20',\n",
       " '52',\n",
       " '6',\n",
       " '97',\n",
       " '10',\n",
       " '18',\n",
       " '28',\n",
       " '23',\n",
       " '5',\n",
       " '12',\n",
       " '36']"
      ]
     },
     "execution_count": 18,
     "metadata": {},
     "output_type": "execute_result"
    }
   ],
   "source": [
    "#Extracting all occurrences of numbers\n",
    "news = '''Sixty-six undergraduate students from an urban college in New York City participated in this study. Students participated in this research study as part of a requirement for a class. Nineteen participants were excluded from the study for meeting one or more exclusion criteria including not completing the sentence unscrambling task, not providing ratings for each of the traits, or failing either one of the two attention checks, leaving the total number of eligible participants at forty-seven. Participants included 36 women aged 18 to 52 years old (M = 20.52, SD = 6.97), 10 men aged 18 to 28 years old (M = 23.5, SD = 12.36), and one individual who did not disclose their sex'''\n",
    "\n",
    "numbers=\"\\d+\"\n",
    "re.findall(numbers,news)"
   ]
  },
  {
   "cell_type": "code",
   "execution_count": 21,
   "id": "d6f605a6-f251-4d30-92e4-6d0b8c7ee074",
   "metadata": {},
   "outputs": [
    {
     "data": {
      "text/plain": [
       "['36', '18', '52', '20.52', '6.97', '10', '18', '28', '23.5', '12.36']"
      ]
     },
     "execution_count": 21,
     "metadata": {},
     "output_type": "execute_result"
    }
   ],
   "source": [
    "#By setting our pattern to \\d, this signifies to one digit, while the + operator will include repetitions of digits. As you can see from our text, we also have decimals, but from our output they were separated by the “.” We can correct this by using the following regular expression:\n",
    "all_numbers=\"\\d+\\.*?\\d+\"\n",
    "re.findall(all_numbers,news)"
   ]
  },
  {
   "cell_type": "code",
   "execution_count": 37,
   "id": "8e2a0a7b-31ed-4db1-9a6e-f9b42b1741fb",
   "metadata": {},
   "outputs": [
    {
     "name": "stdout",
     "output_type": "stream",
     "text": [
      "<re.Match object; span=(0, 28), match='DUK is in Thiruvananthapuram'>\n"
     ]
    }
   ],
   "source": [
    "txt = \"DUK is in Thiruvananthapuram\"\n",
    "x = re.search(\"^DUK.*puram$\", txt)\n",
    "print(x)"
   ]
  },
  {
   "cell_type": "code",
   "execution_count": 38,
   "id": "8162f70d-0c07-4200-ad10-3e150b66b3f9",
   "metadata": {},
   "outputs": [
    {
     "name": "stdout",
     "output_type": "stream",
     "text": [
      "['tha']\n"
     ]
    }
   ],
   "source": [
    "txt = \"DUK is in Thiruvananthapuram\"\n",
    "x = re.findall(\"tha\", txt)\n",
    "print(x)"
   ]
  },
  {
   "cell_type": "code",
   "execution_count": 39,
   "id": "f4b4dec5-5388-4394-a0ee-477a6eda2ad9",
   "metadata": {},
   "outputs": [
    {
     "name": "stdout",
     "output_type": "stream",
     "text": [
      "[]\n"
     ]
    }
   ],
   "source": [
    "txt = \"DUK is in Thiruvananthapuram\"\n",
    "x = re.findall(\"Kottayam\", txt)\n",
    "print(x)"
   ]
  },
  {
   "cell_type": "code",
   "execution_count": 40,
   "id": "11729af4-ea15-4ee5-b378-b7cd44437e19",
   "metadata": {},
   "outputs": [
    {
     "name": "stdout",
     "output_type": "stream",
     "text": [
      "The first white-space character is located in position: 3\n"
     ]
    }
   ],
   "source": [
    "txt = \"DUK is in Thiruvananthapuram\"\n",
    "x = re.search(\"\\s\", txt)\n",
    "\n",
    "print(\"The first white-space character is located in position:\", x.start())"
   ]
  },
  {
   "cell_type": "code",
   "execution_count": 41,
   "id": "f2840e25-76b1-47a0-b831-cb908d78ac92",
   "metadata": {},
   "outputs": [
    {
     "name": "stdout",
     "output_type": "stream",
     "text": [
      "['DUK', 'is', 'in', 'Thiruvananthapuram']\n"
     ]
    }
   ],
   "source": [
    "txt = \"DUK is in Thiruvananthapuram\"\n",
    "x = re.split(\"\\s\", txt)\n",
    "print(x)"
   ]
  },
  {
   "cell_type": "code",
   "execution_count": 42,
   "id": "a396ce5a-6c5c-46dd-8adc-52f36d217ba4",
   "metadata": {},
   "outputs": [
    {
     "name": "stdout",
     "output_type": "stream",
     "text": [
      "['DUK', 'is in Thiruvananthapuram']\n"
     ]
    }
   ],
   "source": [
    "txt = \"DUK is in Thiruvananthapuram\"\n",
    "x = re.split(\"\\s\", txt, 1)\n",
    "print(x)"
   ]
  },
  {
   "cell_type": "code",
   "execution_count": 43,
   "id": "0612fb53-a221-4854-a555-a20785e83286",
   "metadata": {},
   "outputs": [
    {
     "name": "stdout",
     "output_type": "stream",
     "text": [
      "DUK2023is2023in2023Thiruvananthapuram\n"
     ]
    }
   ],
   "source": [
    "txt = \"DUK is in Thiruvananthapuram\"\n",
    "x = re.sub(\"\\s\", \"2023\", txt)\n",
    "print(x)"
   ]
  },
  {
   "cell_type": "code",
   "execution_count": 44,
   "id": "d6db50c6-6dd3-4f74-b1ae-154d7d8834fb",
   "metadata": {},
   "outputs": [
    {
     "name": "stdout",
     "output_type": "stream",
     "text": [
      "DUK2023is2023in Thiruvananthapuram\n"
     ]
    }
   ],
   "source": [
    "txt = \"DUK is in Thiruvananthapuram\"\n",
    "x = re.sub(\"\\s\", \"2023\", txt, 2)\n",
    "print(x)"
   ]
  },
  {
   "cell_type": "code",
   "execution_count": 46,
   "id": "c159c359-2404-4ea4-9ac7-d4d7ff812c30",
   "metadata": {},
   "outputs": [
    {
     "name": "stdout",
     "output_type": "stream",
     "text": [
      "<re.Match object; span=(10, 14), match='Thir'>\n"
     ]
    }
   ],
   "source": [
    "txt = \"DUK is in Thiruvananthapuram\"\n",
    "x = re.search(\"Thir\", txt)\n",
    "print(x) #this will print an object"
   ]
  },
  {
   "cell_type": "code",
   "execution_count": 48,
   "id": "c65542c5-e87e-4c77-bbd3-9a8b3d6b52c0",
   "metadata": {},
   "outputs": [
    {
     "name": "stdout",
     "output_type": "stream",
     "text": [
      "Thiruvananthapuram\n"
     ]
    }
   ],
   "source": [
    "txt = \"DUK is in Thiruvananthapuram\"\n",
    "x = re.search(r\"\\bT\\w+\", txt)\n",
    "print(x.group())"
   ]
  },
  {
   "cell_type": "code",
   "execution_count": 49,
   "id": "0ed42ca2-7ac0-4197-be88-351ae309db3c",
   "metadata": {},
   "outputs": [
    {
     "name": "stdout",
     "output_type": "stream",
     "text": [
      "['contact@duk.ac.in', 'feedback@duk.ac.in']\n"
     ]
    }
   ],
   "source": [
    "#extracting emails from text\n",
    "text = \"Please contact Digital University Kerala at contact@duk.ac.in for further information.\"+\\\n",
    "        \"You can also give feedback at feedback@duk.ac.in\"\n",
    "\n",
    "\n",
    "emails = re.findall(r\"[a-z0-9\\.\\-+_]+@[a-z0-9\\.\\-+_]+\\.[a-z]+\", text)\n",
    "print(emails)"
   ]
  },
  {
   "cell_type": "code",
   "execution_count": 51,
   "id": "cbe4a26e-a1e2-4ca3-b722-454410da3fe4",
   "metadata": {},
   "outputs": [
    {
     "data": {
      "text/plain": [
       "['+9197343323', '+56667778888']"
      ]
     },
     "execution_count": 51,
     "metadata": {},
     "output_type": "execute_result"
    }
   ],
   "source": [
    "#Validate phone number\n",
    "# Validate phone number\n",
    "import re\n",
    "\n",
    "validate_phone_number_pattern = \"^\\\\+?[1-9][0-9]{7,14}$\"\n",
    "re.match(validate_phone_number_pattern, \"+12223334444\") # Returns Match object\n",
    "\n",
    "# Extract phone number from a string\n",
    "extract_phone_number_pattern = \"\\\\+?[1-9][0-9]{7,14}\"\n",
    "re.findall(extract_phone_number_pattern, 'You can reach me out at +9197343323 and +56667778888') # returns ['+12223334444', '+56667778888']"
   ]
  },
  {
   "cell_type": "code",
   "execution_count": 9,
   "id": "114cdd4f-2230-42e7-8cb3-bd14ee27b0f0",
   "metadata": {},
   "outputs": [],
   "source": [
    "#lets scrape some real-data and extract phone numbers using Regular Expressions\n",
    "import urllib.request\n",
    "import re"
   ]
  },
  {
   "cell_type": "code",
   "execution_count": 50,
   "id": "03fab00e-cc70-43d4-8ed1-c4e50f69a353",
   "metadata": {},
   "outputs": [
    {
     "name": "stdout",
     "output_type": "stream",
     "text": [
      "(257) 563-7401\n",
      "(372) 587-2335\n",
      "(786) 713-8616\n",
      "(793) 151-6230\n",
      "(492) 709-6392\n",
      "(654) 393-5734\n",
      "(404) 960-3807\n",
      "(314) 244-6306\n",
      "(947) 278-5929\n",
      "(684) 579-1879\n",
      "(389) 737-2852\n",
      "(660) 663-4518\n",
      "(608) 265-2215\n",
      "(959) 119-8364\n",
      "(468) 353-2641\n",
      "(248) 675-4007\n",
      "(939) 353-1107\n",
      "(570) 873-7090\n",
      "(302) 259-2375\n",
      "(717) 450-4729\n",
      "(453) 391-4650\n",
      "(559) 104-5475\n",
      "(387) 142-9434\n",
      "(516) 745-4496\n",
      "(326) 677-3419\n",
      "(746) 679-2470\n",
      "(455) 430-0989\n",
      "(490) 936-4694\n",
      "(985) 834-8285\n",
      "(662) 661-1446\n",
      "(802) 668-8240\n",
      "(477) 768-9247\n",
      "(791) 239-9057\n",
      "(832) 109-0213\n",
      "(837) 196-3274\n",
      "(268) 442-2428\n",
      "(850) 676-5117\n",
      "(861) 546-5032\n",
      "(176) 805-4108\n",
      "(715) 912-6931\n",
      "(993) 554-0563\n",
      "(357) 616-5411\n",
      "(121) 347-0086\n",
      "(304) 506-6314\n",
      "(425) 288-2332\n",
      "(145) 987-4962\n",
      "(187) 582-9707\n",
      "(750) 558-3965\n",
      "(492) 467-3131\n",
      "(774) 914-2510\n",
      "(888) 106-8550\n",
      "(539) 567-3573\n",
      "(693) 337-2849\n",
      "(545) 604-9386\n",
      "(221) 156-5026\n",
      "(414) 876-0865\n",
      "(932) 726-8645\n",
      "(726) 710-9826\n",
      "(622) 594-1662\n",
      "(948) 600-8503\n",
      "(605) 900-7508\n",
      "(716) 977-5775\n",
      "(368) 239-8275\n",
      "(725) 342-0650\n",
      "(711) 993-5187\n",
      "(882) 399-5084\n",
      "(287) 755-9948\n",
      "(659) 551-3389\n",
      "(275) 730-6868\n",
      "(725) 757-4047\n",
      "(314) 882-1496\n",
      "(639) 360-7590\n",
      "(168) 222-1592\n",
      "(896) 303-1164\n",
      "(203) 982-6130\n",
      "(906) 217-1470\n",
      "(614) 514-1269\n",
      "(763) 409-5446\n",
      "(836) 292-5324\n",
      "(926) 709-3295\n",
      "(963) 356-9268\n",
      "(736) 522-8584\n",
      "(410) 483-0352\n",
      "(252) 204-1434\n",
      "(874) 886-4174\n",
      "(581) 379-7573\n",
      "(983) 632-8597\n",
      "(295) 983-3476\n",
      "(873) 392-8802\n",
      "(360) 669-3923\n",
      "(840) 987-9449\n",
      "(422) 517-6053\n",
      "(126) 940-2753\n",
      "(427) 930-5255\n",
      "(689) 721-5145\n",
      "(676) 334-2174\n",
      "(437) 994-5270\n",
      "(564) 908-6970\n",
      "(577) 333-6244\n",
      "(655) 840-6139\n"
     ]
    }
   ],
   "source": [
    "url = \"http://www.summet.com/dmsi/html/codesamples/addresses.html\"\n",
    " \n",
    "response = urllib.request.urlopen(url)\n",
    " \n",
    "html = response.read()\n",
    "\n",
    "\n",
    " \n",
    "htmlStr = html.decode()\n",
    " \n",
    "pdata = re.findall(\"\\(\\d{3}\\) \\d{3}-\\d{4}\", htmlStr)\n",
    " \n",
    "for item in pdata:\n",
    "    print(item)"
   ]
  },
  {
   "cell_type": "markdown",
   "id": "8648e51d-8c80-49b1-b108-1611c68e8296",
   "metadata": {},
   "source": [
    "# Word Tokenizer"
   ]
  },
  {
   "cell_type": "code",
   "execution_count": 52,
   "id": "ecccee74-bb24-4d6a-9a8f-65ba89d7f92e",
   "metadata": {},
   "outputs": [
    {
     "name": "stdout",
     "output_type": "stream",
     "text": [
      "Requirement already satisfied: nltk in c:\\users\\dr.anoop\\appdata\\local\\programs\\python\\python39\\lib\\site-packages (3.6.7)\n",
      "Requirement already satisfied: joblib in c:\\users\\dr.anoop\\appdata\\local\\programs\\python\\python39\\lib\\site-packages (from nltk) (1.2.0)\n",
      "Requirement already satisfied: regex>=2021.8.3 in c:\\users\\dr.anoop\\appdata\\local\\programs\\python\\python39\\lib\\site-packages (from nltk) (2022.10.31)\n",
      "Requirement already satisfied: click in c:\\users\\dr.anoop\\appdata\\local\\programs\\python\\python39\\lib\\site-packages (from nltk) (8.1.3)\n",
      "Requirement already satisfied: tqdm in c:\\users\\dr.anoop\\appdata\\local\\programs\\python\\python39\\lib\\site-packages (from nltk) (4.64.1)\n",
      "Requirement already satisfied: colorama in c:\\users\\dr.anoop\\appdata\\local\\programs\\python\\python39\\lib\\site-packages (from click->nltk) (0.4.6)\n"
     ]
    }
   ],
   "source": [
    "#install NLTK library\n",
    "!pip install nltk"
   ]
  },
  {
   "cell_type": "code",
   "execution_count": 54,
   "id": "31972dfc-d645-4b13-bdba-3da9653a8e68",
   "metadata": {},
   "outputs": [
    {
     "name": "stdout",
     "output_type": "stream",
     "text": [
      "['DUK', 'was', 'established', 'by', 'the', 'Government', 'of', 'Kerala', 'by', 'upgrading', 'the', 'Indian', 'Institute', 'of', 'Information', 'Technology', '&', 'Management-Kerala', '(', 'IIITM-K', ')', ',', 'which', 'was', 'established', 'by', 'the', 'Government', 'in', 'the', 'year', '2000', '.', 'DUK', 'will', 'commence', 'the', 'application', 'process', 'for', 'MSc', ',', 'MTech', ',', 'MBA', 'and', 'PG', 'Diploma', 'programs', 'for', 'the', 'academic', 'year', '2023', '–', '2024', 'in', 'the', 'month', 'of', 'March-May', '.', 'As', 'a', 'student', 'on', 'these', 'programs', ',', 'you', 'will', 'form', 'a', 'part', 'of', 'an', 'exciting', 'learning', 'environment', 'in', 'a', 'verdant', 'campus', 'in', 'Technocity', ',', 'Thiruvananthapuram', '.', 'Duk', 'is', 'a', 'great', 'University']\n"
     ]
    }
   ],
   "source": [
    "from nltk.tokenize import word_tokenize\n",
    "text = '''DUK was established by the Government of Kerala by upgrading the Indian Institute of Information Technology & Management-Kerala (IIITM-K), which was established by the Government in the year 2000. DUK will commence the application process for MSc, MTech, MBA and PG Diploma programs for the academic year 2023 – 2024 in the month of March-May. As a student on these programs, you will form a part of an exciting learning environment in a verdant campus in Technocity, Thiruvananthapuram. Duk is a great University'''\n",
    "print(word_tokenize(text))"
   ]
  },
  {
   "cell_type": "markdown",
   "id": "a24713a2-ddb3-4ef5-826a-7b7b217c6b7c",
   "metadata": {},
   "source": [
    "# Sentence Tokenizer"
   ]
  },
  {
   "cell_type": "code",
   "execution_count": 55,
   "id": "7e436165-0bba-4024-851d-a80cce029f11",
   "metadata": {},
   "outputs": [
    {
     "name": "stdout",
     "output_type": "stream",
     "text": [
      "['DUK was established by the Government of Kerala by upgrading the Indian Institute of Information Technology & Management-Kerala (IIITM-K), which was established by the Government in the year 2000.', 'DUK will commence the application process for MSc, MTech, MBA and PG Diploma programs for the academic year 2023 – 2024 in the month of March-May.', 'As a student on these programs, you will form a part of an exciting learning environment in a verdant campus in Technocity, Thiruvananthapuram.', 'Duk is a great University']\n"
     ]
    }
   ],
   "source": [
    "from nltk.tokenize import sent_tokenize\n",
    "print(sent_tokenize(text))"
   ]
  },
  {
   "cell_type": "code",
   "execution_count": 55,
   "id": "e827b5ce-7adf-45aa-9565-0e651d848ed2",
   "metadata": {},
   "outputs": [
    {
     "name": "stdout",
     "output_type": "stream",
     "text": [
      "found word:cat\n"
     ]
    }
   ],
   "source": [
    "import re\n",
    "\n",
    "str = 'an example word:cat!!'\n",
    "match = re.search(r'word:\\w\\w\\w', str)\n",
    "# If-statement after search() tests if it succeeded\n",
    "if match:\n",
    "  print('found', match.group()) ## 'found word:cat'\n",
    "else:\n",
    "  print('did not find')"
   ]
  }
 ],
 "metadata": {
  "kernelspec": {
   "display_name": "Python 3 (ipykernel)",
   "language": "python",
   "name": "python3"
  },
  "language_info": {
   "codemirror_mode": {
    "name": "ipython",
    "version": 3
   },
   "file_extension": ".py",
   "mimetype": "text/x-python",
   "name": "python",
   "nbconvert_exporter": "python",
   "pygments_lexer": "ipython3",
   "version": "3.9.11"
  }
 },
 "nbformat": 4,
 "nbformat_minor": 5
}
